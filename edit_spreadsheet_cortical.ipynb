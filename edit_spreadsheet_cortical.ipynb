{
 "cells": [
  {
   "cell_type": "markdown",
   "metadata": {},
   "source": [
    "### Import"
   ]
  },
  {
   "cell_type": "code",
   "execution_count": 69,
   "metadata": {
    "collapsed": true
   },
   "outputs": [],
   "source": [
    "import pandas as pd\n",
    "import numpy as np"
   ]
  },
  {
   "cell_type": "markdown",
   "metadata": {},
   "source": [
    "### Processing"
   ]
  },
  {
   "cell_type": "code",
   "execution_count": 70,
   "metadata": {
    "collapsed": true
   },
   "outputs": [],
   "source": [
    "df = pd.read_csv(\"Results.csv\")"
   ]
  },
  {
   "cell_type": "code",
   "execution_count": 71,
   "metadata": {},
   "outputs": [
    {
     "name": "stdout",
     "output_type": "stream",
     "text": [
      "temporalpole\n",
      "frontalpole\n",
      "bankssts\n",
      "superiortemporal\n",
      "middletemporal\n",
      "precentral\n",
      "postcentral\n",
      "supramarginal\n",
      "superiorparietal\n",
      "precuneus\n",
      "cuneus\n",
      "pericalcarine\n",
      "lingual\n",
      "superiorfrontal\n",
      "rostralanteriorcingulate\n",
      "caudalanteriorcingulate\n",
      "posteriorcingulate\n",
      "isthmuscingulate\n",
      "medialorbitofrontal\n",
      "inferiortemporal\n",
      "lateraloccipital\n",
      "inferiorparietal\n",
      "caudalmiddlefrontal\n",
      "rostralmiddlefrontal\n",
      "lateralorbitofrontal\n",
      "parsorbitalis\n",
      "parstriangularis\n",
      "parsopecularis\n",
      "insula\n",
      "transversetemporal\n",
      "entorhinal\n",
      "paracentral\n",
      "fusiform\n",
      "parahippocampal\n"
     ]
    }
   ],
   "source": [
    "rois = []\n",
    "\n",
    "for c in df.columns:\n",
    "    if \"_\" not in c:\n",
    "        if c not in [\"Subject\", \"LThickness\", \"RThickness\", \"LSurfArea\", \"RSurfArea\", \"ICV\"]:\n",
    "            print (c)\n",
    "            rois.append(c)"
   ]
  },
  {
   "cell_type": "code",
   "execution_count": 72,
   "metadata": {
    "collapsed": true
   },
   "outputs": [],
   "source": [
    "df.set_value?"
   ]
  },
  {
   "cell_type": "markdown",
   "metadata": {},
   "source": [
    "### Testing Assignment Value\n",
    "df[[\"L_bankssts_thickavg\"]] = df[[\"L_bankssts_thickavg\"]].astype(str)\n",
    "test = df.set_value(8896, \"L_bankssts_thickavg\", \"NA\")"
   ]
  },
  {
   "cell_type": "code",
   "execution_count": 73,
   "metadata": {
    "collapsed": true
   },
   "outputs": [],
   "source": [
    "for i, row in df.iterrows():\n",
    "    for roi in rois:\n",
    "        # We need this try/except because empty cells are considered floats\n",
    "        try: \n",
    "            # I added this first if statement, so I could assign the cell to 'NA'\n",
    "            if i == 0:\n",
    "                roi_cols = [\"L_\"+roi+\"_surfavg\",\"L_\"+roi+\"_thickavg\",\"R_\"+roi+\"_surfavg\",\"R_\"+roi+\"_thickavg\"]\n",
    "                df[roi_cols] = df[roi_cols].astype(str)\n",
    "            if \"L\" in row[roi]:\n",
    "                df = df.set_value(i, \"L_\"+roi+\"_surfavg\", \"NA\")\n",
    "                df = df.set_value(i, \"L_\"+roi+\"_thickavg\", \"NA\")\n",
    "                #print \"Fixing\", row[\"Subject\"], \"L %s bad\" % roi\n",
    "            if \"R\" in row[roi]:\n",
    "                df = df.set_value(i, \"R_\"+roi+\"_surfavg\", \"NA\")\n",
    "                df = df.set_value(i, \"R_\"+roi+\"_thickavg\", \"NA\")\n",
    "                #print \"Fixing\", row[\"Subject\"], \"R %s bad\" % roi\n",
    "        except:\n",
    "            pass"
   ]
  },
  {
   "cell_type": "code",
   "execution_count": 74,
   "metadata": {
    "collapsed": true
   },
   "outputs": [],
   "source": [
    "df.to_csv(\"Results.csv\", index=False)"
   ]
  },
  {
   "cell_type": "code",
   "execution_count": null,
   "metadata": {
    "collapsed": true
   },
   "outputs": [],
   "source": []
  },
  {
   "cell_type": "code",
   "execution_count": null,
   "metadata": {
    "collapsed": true
   },
   "outputs": [],
   "source": []
  }
 ],
 "metadata": {
  "kernelspec": {
   "display_name": "Python 3",
   "language": "python",
   "name": "python3"
  },
  "language_info": {
   "codemirror_mode": {
    "name": "ipython",
    "version": 3
   },
   "file_extension": ".py",
   "mimetype": "text/x-python",
   "name": "python",
   "nbconvert_exporter": "python",
   "pygments_lexer": "ipython3",
   "version": "3.7.3"
  }
 },
 "nbformat": 4,
 "nbformat_minor": 1
}
